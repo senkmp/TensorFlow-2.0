{
  "nbformat": 4,
  "nbformat_minor": 0,
  "metadata": {
    "colab": {
      "name": "feature_columns",
      "version": "0.3.2",
      "provenance": [],
      "include_colab_link": true
    },
    "kernelspec": {
      "name": "python3",
      "display_name": "Python 3"
    }
  },
  "cells": [
    {
      "cell_type": "markdown",
      "metadata": {
        "id": "view-in-github",
        "colab_type": "text"
      },
      "source": [
        "<a href=\"https://colab.research.google.com/github/senkmp/TensorFlow-2.0-Feature-column/blob/master/feature_columns.ipynb\" target=\"_parent\"><img src=\"https://colab.research.google.com/assets/colab-badge.svg\" alt=\"Open In Colab\"/></a>"
      ]
    },
    {
      "cell_type": "markdown",
      "metadata": {
        "id": "HAMjDIla4NgF",
        "colab_type": "text"
      },
      "source": [
        "# Feature Columns\n",
        "\n",
        "This tutorial details feature columns. Think of feature columns as the intermediaries between raw data and Estimators. Feature columns are very rich, enabling you to transform a diverse range of raw data into formats that Estimators can use, allowing easy experimentation.\n",
        "\n",
        "*In simple words feature column are bridge between raw data and estimator or model.*\n",
        "\n",
        "\n",
        "\n",
        "![alt text](https://www.tensorflow.org/images/feature_columns/feature_cloud.jpg)\n",
        "Some real-world features (such as, longitude) are numerical, but many are not.\n",
        "\n",
        "Input to a Deep Neural Network\n",
        "\n",
        "What kind of data can a deep neural network operate on? The answer is, of course, numbers (for example, tf.float32). After all, every neuron in a neural network performs multiplication and addition operations on weights and input data. Real-life input data, however, often contains non-numerical (categorical) data. For example, consider a product_class feature that can contain the following three non-numerical values:\n",
        "\n",
        "*  kitchenware\n",
        "* electronics\n",
        "* sports\n",
        "\n",
        "ML models generally represent categorical values as simple vectors in which a 1 represents the presence of a value and a 0 represents the absence of a value. For example, when product_class is set to sports, an ML model would usually represent product_class as [0, 0, 1], meaning:\n",
        "\n",
        " * 0: kitchenware is absent\n",
        " *  0: electronics is absent\n",
        " *  1: sports is present\n",
        "\n",
        "So, although raw data can be numerical or categorical, an ML model represents all features as numbers.\n",
        "\n",
        "## Feature Columns\n",
        "\n",
        "As the following figure suggests, you specify the input to a model through the feature_columns argument of an Estimator (DNNClassifier for Iris). Feature Columns bridge input data (as returned by input_fn) with your model.\n",
        "\n",
        "![alt text](https://www.tensorflow.org/images/feature_columns/inputs_to_model_bridge.jpg)\n",
        "\n",
        "   Feature columns bridge raw data with the data your model needs. \n",
        "   \n",
        "   To create feature columns, call functions from the tf.feature_column module. This tutorial explains nine of the functions in that module. As the following figure shows, all nine functions return either a Categorical-Column or a Dense-Column object, except bucketized_column, which inherits from both classes:\n",
        "   \n",
        "   ![alt text](https://www.tensorflow.org/images/feature_columns/some_constructors.jpg)\n",
        "   Feature column methods fall into two main categories and one hybrid category. \n",
        "   \n",
        "   Let's look at these functions in more detail."
      ]
    },
    {
      "cell_type": "markdown",
      "metadata": {
        "id": "PsJ3PtckG0t4",
        "colab_type": "text"
      },
      "source": [
        "## Import TensorFlow and other libraries"
      ]
    },
    {
      "cell_type": "code",
      "metadata": {
        "id": "4Cl0qfVS4BiI",
        "colab_type": "code",
        "colab": {}
      },
      "source": [
        "from __future__ import absolute_import, division, print_function, unicode_literals\n",
        "\n",
        "import numpy as np\n",
        "import pandas as pd\n",
        "\n",
        "!pip install tensorflow==2.0.0-beta1\n",
        "import tensorflow as tf\n",
        "\n",
        "from tensorflow import feature_column\n",
        "from tensorflow.keras import layers"
      ],
      "execution_count": 0,
      "outputs": []
    },
    {
      "cell_type": "code",
      "metadata": {
        "id": "SQnWmLn1Ra1v",
        "colab_type": "code",
        "colab": {}
      },
      "source": [
        ""
      ],
      "execution_count": 0,
      "outputs": []
    },
    {
      "cell_type": "markdown",
      "metadata": {
        "id": "yu5Gg8k5KCL4",
        "colab_type": "text"
      },
      "source": [
        "## Create Demo data\n"
      ]
    },
    {
      "cell_type": "code",
      "metadata": {
        "id": "4gvmkgxxA66_",
        "colab_type": "code",
        "colab": {}
      },
      "source": [
        "data = {'marks': [55,21,63,88,74,54,95,41,84,52],\n",
        "        'grade': ['average','poor','average','good','good','average','good','average','good','average'],\n",
        "        'point': ['c','f','c+','b+','b','c','a','d+','b+','c']}"
      ],
      "execution_count": 0,
      "outputs": []
    },
    {
      "cell_type": "markdown",
      "metadata": {
        "id": "NAMy4NcYKKBY",
        "colab_type": "text"
      },
      "source": [
        "## Demo Data"
      ]
    },
    {
      "cell_type": "code",
      "metadata": {
        "id": "Dp1pwuh9CQDz",
        "colab_type": "code",
        "outputId": "37f2f5cf-d6be-4ae2-f79c-66fe44decf38",
        "colab": {
          "base_uri": "https://localhost:8080/",
          "height": 363
        }
      },
      "source": [
        "df = pd.DataFrame(data)\n",
        "df"
      ],
      "execution_count": 0,
      "outputs": [
        {
          "output_type": "execute_result",
          "data": {
            "text/html": [
              "<div>\n",
              "<style scoped>\n",
              "    .dataframe tbody tr th:only-of-type {\n",
              "        vertical-align: middle;\n",
              "    }\n",
              "\n",
              "    .dataframe tbody tr th {\n",
              "        vertical-align: top;\n",
              "    }\n",
              "\n",
              "    .dataframe thead th {\n",
              "        text-align: right;\n",
              "    }\n",
              "</style>\n",
              "<table border=\"1\" class=\"dataframe\">\n",
              "  <thead>\n",
              "    <tr style=\"text-align: right;\">\n",
              "      <th></th>\n",
              "      <th>marks</th>\n",
              "      <th>grade</th>\n",
              "      <th>point</th>\n",
              "    </tr>\n",
              "  </thead>\n",
              "  <tbody>\n",
              "    <tr>\n",
              "      <th>0</th>\n",
              "      <td>55</td>\n",
              "      <td>average</td>\n",
              "      <td>c</td>\n",
              "    </tr>\n",
              "    <tr>\n",
              "      <th>1</th>\n",
              "      <td>21</td>\n",
              "      <td>poor</td>\n",
              "      <td>f</td>\n",
              "    </tr>\n",
              "    <tr>\n",
              "      <th>2</th>\n",
              "      <td>63</td>\n",
              "      <td>average</td>\n",
              "      <td>c+</td>\n",
              "    </tr>\n",
              "    <tr>\n",
              "      <th>3</th>\n",
              "      <td>88</td>\n",
              "      <td>good</td>\n",
              "      <td>b+</td>\n",
              "    </tr>\n",
              "    <tr>\n",
              "      <th>4</th>\n",
              "      <td>74</td>\n",
              "      <td>good</td>\n",
              "      <td>b</td>\n",
              "    </tr>\n",
              "    <tr>\n",
              "      <th>5</th>\n",
              "      <td>54</td>\n",
              "      <td>average</td>\n",
              "      <td>c</td>\n",
              "    </tr>\n",
              "    <tr>\n",
              "      <th>6</th>\n",
              "      <td>95</td>\n",
              "      <td>good</td>\n",
              "      <td>a</td>\n",
              "    </tr>\n",
              "    <tr>\n",
              "      <th>7</th>\n",
              "      <td>41</td>\n",
              "      <td>average</td>\n",
              "      <td>d+</td>\n",
              "    </tr>\n",
              "    <tr>\n",
              "      <th>8</th>\n",
              "      <td>84</td>\n",
              "      <td>good</td>\n",
              "      <td>b+</td>\n",
              "    </tr>\n",
              "    <tr>\n",
              "      <th>9</th>\n",
              "      <td>52</td>\n",
              "      <td>average</td>\n",
              "      <td>c</td>\n",
              "    </tr>\n",
              "  </tbody>\n",
              "</table>\n",
              "</div>"
            ],
            "text/plain": [
              "   marks    grade point\n",
              "0     55  average     c\n",
              "1     21     poor     f\n",
              "2     63  average    c+\n",
              "3     88     good    b+\n",
              "4     74     good     b\n",
              "5     54  average     c\n",
              "6     95     good     a\n",
              "7     41  average    d+\n",
              "8     84     good    b+\n",
              "9     52  average     c"
            ]
          },
          "metadata": {
            "tags": []
          },
          "execution_count": 27
        }
      ]
    },
    {
      "cell_type": "code",
      "metadata": {
        "id": "saya2UL2E5An",
        "colab_type": "code",
        "outputId": "a1ffe32c-d30d-4a1a-c178-b9dd563ae96e",
        "colab": {
          "base_uri": "https://localhost:8080/",
          "height": 90
        }
      },
      "source": [
        "df.dtypes"
      ],
      "execution_count": 0,
      "outputs": [
        {
          "output_type": "execute_result",
          "data": {
            "text/plain": [
              "marks     int64\n",
              "grade    object\n",
              "point    object\n",
              "dtype: object"
            ]
          },
          "metadata": {
            "tags": []
          },
          "execution_count": 28
        }
      ]
    },
    {
      "cell_type": "markdown",
      "metadata": {
        "id": "9w5rgPy7VSYQ",
        "colab_type": "text"
      },
      "source": [
        "## Demonstrate several types of feature column"
      ]
    },
    {
      "cell_type": "code",
      "metadata": {
        "id": "jo4NBQ--CS34",
        "colab_type": "code",
        "colab": {}
      },
      "source": [
        "# A utility method to show transromation from feature column\n",
        "def demo(feature_column):\n",
        "  feature_layer = layers.DenseFeatures(feature_column)\n",
        "  print(feature_layer(data).numpy())"
      ],
      "execution_count": 0,
      "outputs": []
    },
    {
      "cell_type": "markdown",
      "metadata": {
        "id": "hTloL_wkWDhO",
        "colab_type": "text"
      },
      "source": [
        "### Numeric columns\n",
        "The output of a feature column becomes the input to the model (using the demo function defined above, we will be able to see exactly how each column from the dataframe is transformed). A [numeric column](https://www.tensorflow.org/api_docs/python/tf/feature_column/numeric_column) is the simplest type of column. It is used to represent real valued features. When using this column, your model will receive the column value from the dataframe unchanged."
      ]
    },
    {
      "cell_type": "code",
      "metadata": {
        "id": "qfmjwJm_Ci3M",
        "colab_type": "code",
        "outputId": "5ffd0b0a-1dde-42ec-9a45-76f379361381",
        "colab": {
          "base_uri": "https://localhost:8080/",
          "height": 199
        }
      },
      "source": [
        "marks = feature_column.numeric_column(\"marks\")\n",
        "demo(marks)"
      ],
      "execution_count": 0,
      "outputs": [
        {
          "output_type": "stream",
          "text": [
            "[[55.]\n",
            " [21.]\n",
            " [63.]\n",
            " [88.]\n",
            " [74.]\n",
            " [54.]\n",
            " [95.]\n",
            " [41.]\n",
            " [84.]\n",
            " [52.]]\n"
          ],
          "name": "stdout"
        }
      ]
    },
    {
      "cell_type": "markdown",
      "metadata": {
        "id": "7R6Azy4ElGOr",
        "colab_type": "text"
      },
      "source": [
        "### Bucketized columns\n",
        "Often, you don't want to feed a number directly into the model, but instead split its value into different categories based on numerical ranges. Consider raw data that represents a person's age. Instead of representing age as a numeric column, we could split the age into several buckets using a [bucketized column](https://www.tensorflow.org/api_docs/python/tf/feature_column/bucketized_column). Notice the one-hot values below describe which age range each row matches.\n",
        "     Buckets include the left boundary, and exclude the right boundary. \n",
        " For example, consider raw data that represents the year a house was built. Instead of representing that year as a scalar numeric column, we could split the year into the following four buckets:\n",
        "![alt text](https://www.tensorflow.org/images/feature_columns/bucketized_column.jpg)\n",
        "\n",
        "Dividing year data into four buckets.\n",
        "\n",
        "The model will represent the buckets as follows:\n",
        ">Date Range| Description\n",
        ">------------|--------------------\n",
        ">< 1960 |  \t[1, 0, 0, 0]\n",
        ">>= 1960 but < 1980 | [0, 1, 0, 0]\n",
        ">>= 1980 but < 2000 | [0, 0, 1, 0]\n",
        ">>= 2000| [0, 0, 0, 1]\n",
        "\n",
        "Why would you want to split a number—a perfectly valid input to your model—into a categorical value? Well, notice that the categorization splits a single input number into a four-element vector. Therefore, the model now can learn four individual weights rather than just one; four weights creates a richer model than one weight. More importantly, bucketizing enables the model to clearly distinguish between different year categories since only one of the elements is set (1) and the other three elements are cleared (0). For example, when we just use a single number (a year) as input, a linear model can only learn a linear relationship. So, bucketing provides the model with additional flexibility that the model can use to learn.\n",
        "\n",
        "The following code demonstrates how to create a bucketized feature:"
      ]
    },
    {
      "cell_type": "code",
      "metadata": {
        "id": "EZwwpcSNSguF",
        "colab_type": "code",
        "outputId": "70778964-9cc0-404e-c2b0-aa1622343be5",
        "colab": {
          "base_uri": "https://localhost:8080/",
          "height": 199
        }
      },
      "source": [
        "marks_buckets = feature_column.bucketized_column(marks, boundaries=[30,40,50,60,70,80,90])\n",
        "demo(marks_buckets)"
      ],
      "execution_count": 0,
      "outputs": [
        {
          "output_type": "stream",
          "text": [
            "[[0. 0. 0. 1. 0. 0. 0. 0.]\n",
            " [1. 0. 0. 0. 0. 0. 0. 0.]\n",
            " [0. 0. 0. 0. 1. 0. 0. 0.]\n",
            " [0. 0. 0. 0. 0. 0. 1. 0.]\n",
            " [0. 0. 0. 0. 0. 1. 0. 0.]\n",
            " [0. 0. 0. 1. 0. 0. 0. 0.]\n",
            " [0. 0. 0. 0. 0. 0. 0. 1.]\n",
            " [0. 0. 1. 0. 0. 0. 0. 0.]\n",
            " [0. 0. 0. 0. 0. 0. 1. 0.]\n",
            " [0. 0. 0. 1. 0. 0. 0. 0.]]\n"
          ],
          "name": "stdout"
        }
      ]
    },
    {
      "cell_type": "markdown",
      "metadata": {
        "id": "5DE8jgeury8i",
        "colab_type": "text"
      },
      "source": [
        "## Categorical Columns"
      ]
    },
    {
      "cell_type": "markdown",
      "metadata": {
        "id": "zduHmN7arYe3",
        "colab_type": "text"
      },
      "source": [
        "## Indicator and embedding columns\n",
        "Indicator columns and embedding columns never work on features directly, but instead take categorical columns as input."
      ]
    },
    {
      "cell_type": "markdown",
      "metadata": {
        "id": "tOJN5DBcouRC",
        "colab_type": "text"
      },
      "source": [
        "### Indicator columns\n",
        "In this dataset, grade is represented as a string (e.g. 'poor', 'average', or 'good'). We cannot feed strings directly to a model. Instead, we must first map them to numeric values. The categorical vocabulary columns provide a way to represent strings as a one-hot vector (much like you have seen above with age buckets). The vocabulary can be passed as a list using [categorical_column_with_vocabulary_list](https://www.tensorflow.org/api_docs/python/tf/feature_column/categorical_column_with_vocabulary_list), or loaded from a file using [categorical_column_with_vocabulary_file](https://www.tensorflow.org/api_docs/python/tf/feature_column/categorical_column_with_vocabulary_file).\n",
        "\n",
        "We cannot input strings directly to a model. Instead, we must first map strings to numeric or categorical values. Categorical vocabulary columns provide a good way to represent strings as a one-hot vector. For example:\n",
        "\n",
        "![alt text](https://www.tensorflow.org/images/feature_columns/categorical_column_with_vocabulary.jpg)\n",
        "\n",
        "Mapping string values to vocabulary columns"
      ]
    },
    {
      "cell_type": "code",
      "metadata": {
        "id": "Jf_mIYwBVXkh",
        "colab_type": "code",
        "outputId": "5773b4dc-068e-41fd-de75-8e998593a249",
        "colab": {
          "base_uri": "https://localhost:8080/",
          "height": 199
        }
      },
      "source": [
        "grade = feature_column.categorical_column_with_vocabulary_list(\n",
        "      'grade', ['poor', 'average', 'good'])\n",
        "\n",
        "grade_one_hot = feature_column.indicator_column(grade)\n",
        "demo(grade_one_hot)"
      ],
      "execution_count": 0,
      "outputs": [
        {
          "output_type": "stream",
          "text": [
            "[[0. 1. 0.]\n",
            " [1. 0. 0.]\n",
            " [0. 1. 0.]\n",
            " [0. 0. 1.]\n",
            " [0. 0. 1.]\n",
            " [0. 1. 0.]\n",
            " [0. 0. 1.]\n",
            " [0. 1. 0.]\n",
            " [0. 0. 1.]\n",
            " [0. 1. 0.]]\n"
          ],
          "name": "stdout"
        }
      ]
    },
    {
      "cell_type": "markdown",
      "metadata": {
        "id": "maOiPeuVqaWw",
        "colab_type": "text"
      },
      "source": [
        "### Embedding columns\n",
        "Suppose instead of having just a few possible strings, we have thousands (or more) values per category. For a number of reasons, as the number of categories grow large, it becomes infeasible to train a neural network using one-hot encodings. We can use an embedding column to overcome this limitation. Instead of representing the data as a one-hot vector of many dimensions, an [embedding column](https://www.tensorflow.org/api_docs/python/tf/feature_column/embedding_column) represents that data as a lower-dimensional, dense vector in which each cell can contain any number, not just 0 or 1. The size of the embedding (8, in the example below) is a parameter that must be tuned.\n",
        "\n",
        "Key point: using an embedding column is best when a categorical column has many possible values. We are using one here for demonstration purposes, so you have a complete example you can modify for a different dataset in the future."
      ]
    },
    {
      "cell_type": "markdown",
      "metadata": {
        "id": "YQeKo9JPsO2H",
        "colab_type": "text"
      },
      "source": [
        "### Point column as indicator_column"
      ]
    },
    {
      "cell_type": "code",
      "metadata": {
        "id": "Dk9bNyRzb7OO",
        "colab_type": "code",
        "outputId": "b9f5f3fa-40ef-4f4e-97e0-dfa7def75844",
        "colab": {
          "base_uri": "https://localhost:8080/",
          "height": 199
        }
      },
      "source": [
        "point = feature_column.categorical_column_with_vocabulary_list(\n",
        "      'point', df['point'].unique())\n",
        "\n",
        "point_one_hot = feature_column.indicator_column(point)\n",
        "demo(point_one_hot)"
      ],
      "execution_count": 0,
      "outputs": [
        {
          "output_type": "stream",
          "text": [
            "[[1. 0. 0. 0. 0. 0. 0.]\n",
            " [0. 1. 0. 0. 0. 0. 0.]\n",
            " [0. 0. 1. 0. 0. 0. 0.]\n",
            " [0. 0. 0. 1. 0. 0. 0.]\n",
            " [0. 0. 0. 0. 1. 0. 0.]\n",
            " [1. 0. 0. 0. 0. 0. 0.]\n",
            " [0. 0. 0. 0. 0. 1. 0.]\n",
            " [0. 0. 0. 0. 0. 0. 1.]\n",
            " [0. 0. 0. 1. 0. 0. 0.]\n",
            " [1. 0. 0. 0. 0. 0. 0.]]\n"
          ],
          "name": "stdout"
        }
      ]
    },
    {
      "cell_type": "markdown",
      "metadata": {
        "id": "dv20a--3sN8f",
        "colab_type": "text"
      },
      "source": [
        "### Point column as embedding_column"
      ]
    },
    {
      "cell_type": "code",
      "metadata": {
        "id": "U0rppLoAYS8h",
        "colab_type": "code",
        "outputId": "9cf4b132-228f-4613-b507-8289a664d4a2",
        "colab": {
          "base_uri": "https://localhost:8080/",
          "height": 199
        }
      },
      "source": [
        "# Notice the input to the embedding column is the categorical column\n",
        "# we previously created\n",
        "point_embedding = feature_column.embedding_column(point, dimension=4)\n",
        "demo(point_embedding)"
      ],
      "execution_count": 0,
      "outputs": [
        {
          "output_type": "stream",
          "text": [
            "[[-0.12117067 -0.59591204 -0.09200159  0.16391031]\n",
            " [ 0.1512691  -0.74400634  0.1722187   0.06663191]\n",
            " [-0.5697371   0.2829355  -0.48121944  0.43977347]\n",
            " [-0.565077   -0.1137715  -0.2364604   0.34292158]\n",
            " [-0.50854486  0.7750526   0.08857046 -0.35773048]\n",
            " [-0.12117067 -0.59591204 -0.09200159  0.16391031]\n",
            " [-0.38701573  0.12245961  0.25807685 -0.49272   ]\n",
            " [-0.27237403 -0.3884217  -0.10030628 -0.14859001]\n",
            " [-0.565077   -0.1137715  -0.2364604   0.34292158]\n",
            " [-0.12117067 -0.59591204 -0.09200159  0.16391031]]\n"
          ],
          "name": "stdout"
        }
      ]
    },
    {
      "cell_type": "markdown",
      "metadata": {
        "id": "zw5JbFl_scjw",
        "colab_type": "text"
      },
      "source": [
        "When using an indicator column, we're telling TensorFlow to do exactly what we've seen in our categorical product_class example. That is, an indicator column treats each category as an element in a one-hot vector, where the matching category has value 1 and the rest have 0s:\n",
        "\n",
        "![alt text](https://www.tensorflow.org/images/feature_columns/categorical_column_with_identity.jpg)\n",
        "\n",
        "Representing data in indicator columns. \n",
        "\n",
        "Now, suppose instead of having just three possible classes, we have a million. Or maybe a billion. For a number of reasons, as the number of categories grow large, it becomes infeasible to train a neural network using indicator columns.\n",
        "\n",
        "We can use an embedding column to overcome this limitation. Instead of representing the data as a one-hot vector of many dimensions, an embedding column represents that data as a lower-dimensional, ordinary vector in which each cell can contain any number, not just 0 or 1. By permitting a richer palette of numbers for every cell, an embedding column contains far fewer cells than an indicator column.\n",
        "\n",
        "Let's look at an example comparing indicator and embedding columns. Suppose our input examples consist of different words from a limited palette of only 81 words. Further suppose that the data set provides the following input words in 4 separate examples:\n",
        "\n",
        "\n",
        "   *  \"dog\"\n",
        "   *  \"spoon\"\n",
        "   *  \"scissors\"\n",
        "   *   \"guitar\"\n",
        "   \n",
        "   In that case, the following figure illustrates the processing path for embedding columns or indicator columns.\n",
        "   \n",
        "   ![alt text](https://www.tensorflow.org/images/feature_columns/embedding_vs_indicator.jpg)\n",
        "\n",
        "An embedding column stores categorical data in a lower-dimensional vector than an indicator column. (We just placed random numbers into the embedding vectors; training determines the actual numbers.) \n",
        "\n",
        "When an example is processed, one of the categorical_column_with... functions maps the example string to a numerical categorical value. For example, a function maps \"spoon\" to [32]. (The 32 comes from our imagination—the actual values depend on the mapping function.) You may then represent these numerical categorical values in either of the following two ways:\n",
        "\n",
        "  *   As an indicator column. A function converts each numeric categorical value into an 81-element vector (because our palette consists of 81 words), placing a 1 in the index of the categorical value (0, 32, 79, 80) and a 0 in all the other positions.\n",
        "\n",
        "  *  As an embedding column. A function uses the numerical categorical values (0, 32, 79, 80) as indices to a lookup table. Each slot in that lookup table contains a 3-element vector.\n",
        "\n",
        "How do the values in the embeddings vectors magically get assigned? Actually, the assignments happen during training. That is, the model learns the best way to map your input numeric categorical values to the embeddings vector value in order to solve your problem. Embedding columns increase your model's capabilities, since an embeddings vector learns new relationships between categories from the training data."
      ]
    },
    {
      "cell_type": "markdown",
      "metadata": {
        "id": "_k-SekdXu6M6",
        "colab_type": "text"
      },
      "source": [
        "### Hashed feature columns\n",
        "\n",
        "Another way to represent a categorical column with a large number of values is to use a [categorical_column_with_hash_bucket](https://www.tensorflow.org/api_docs/python/tf/feature_column/categorical_column_with_hash_bucket). This feature column calculates a hash value of the input, then selects one of the `hash_bucket_size` buckets to encode a string. When using this column, you do not need to provide the vocabulary, and you can choose to make the number of hash_buckets significantly smaller than the number of actual categories to save space.\n",
        "\n",
        "Key point: An important downside of this technique is that there may be collisions in which different strings are mapped to the same bucket. In practice, this can work well for some datasets regardless."
      ]
    },
    {
      "cell_type": "code",
      "metadata": {
        "id": "05OX5LKgb6O9",
        "colab_type": "code",
        "outputId": "aa9615cb-e905-47a4-c536-87f49ffdcf7e",
        "colab": {
          "base_uri": "https://localhost:8080/",
          "height": 199
        }
      },
      "source": [
        "point_hashed = feature_column.categorical_column_with_hash_bucket(\n",
        "      'point', hash_bucket_size=4)\n",
        "demo(feature_column.indicator_column(point_hashed))"
      ],
      "execution_count": 0,
      "outputs": [
        {
          "output_type": "stream",
          "text": [
            "[[1. 0. 0. 0.]\n",
            " [1. 0. 0. 0.]\n",
            " [0. 1. 0. 0.]\n",
            " [0. 0. 0. 1.]\n",
            " [0. 0. 1. 0.]\n",
            " [1. 0. 0. 0.]\n",
            " [0. 0. 0. 1.]\n",
            " [1. 0. 0. 0.]\n",
            " [0. 0. 0. 1.]\n",
            " [1. 0. 0. 0.]]\n"
          ],
          "name": "stdout"
        }
      ]
    },
    {
      "cell_type": "markdown",
      "metadata": {
        "id": "OBSuelh0zjOS",
        "colab_type": "text"
      },
      "source": [
        "At this point, you might rightfully think: \"This is crazy!\" After all, we are forcing the different input values to a smaller set of categories. This means that two probably unrelated inputs will be mapped to the same category, and consequently mean the same thing to the neural network. The following figure illustrates this dilemma, showing that kitchenware and sports both get assigned to category (hash bucket) 12:\n",
        "\n",
        "![alt text](https://www.tensorflow.org/images/feature_columns/hashed_column.jpg)\n",
        "Representing data with hash buckets. \n",
        "\n",
        "As with many counterintuitive phenomena in machine learning, it turns out that hashing often works well in practice. That's because hash categories provide the model with some separation. The model can use additional features to further separate kitchenware from sports."
      ]
    },
    {
      "cell_type": "markdown",
      "metadata": {
        "id": "E6nW2Ffkzxjn",
        "colab_type": "text"
      },
      "source": [
        "### Crossed feature columns\n",
        "Combining features into a single feature, better known as [feature crosses](https://developers.google.com/machine-learning/glossary/#feature_cross), enables a model to learn separate weights for each combination of features. Here, we will create a new feature that is the cross of marks and age. Note that `crossed_column` does not build the full table of all possible combinations (which could be very large). Instead, it is backed by a `hashed_column`, so you can choose how large the table is.\n",
        "\n",
        "Combining features into a single feature, better known as feature crosses, enables the model to learn separate weights for each combination of features.\n",
        "\n",
        "More concretely, suppose we want our model to calculate real estate prices in Atlanta, GA. Real-estate prices within this city vary greatly depending on location. Representing latitude and longitude as separate features isn't very useful in identifying real-estate location dependencies; however, crossing latitude and longitude into a single feature can pinpoint locations. Suppose we represent Atlanta as a grid of 100x100 rectangular sections, identifying each of the 10,000 sections by a feature cross of latitude and longitude. This feature cross enables the model to train on pricing conditions related to each individual section, which is a much stronger signal than latitude and longitude alone.\n",
        "\n",
        "The following figure shows our plan, with the latitude & longitude values for the corners of the city in red text:\n",
        "\n",
        "![alt text](https://www.tensorflow.org/images/feature_columns/Atlanta.jpg)\n",
        "\n",
        "Map of Atlanta. Imagine this map divided into 10,000 sections of equal size. \n",
        "\n"
      ]
    },
    {
      "cell_type": "code",
      "metadata": {
        "id": "9WtVFBQTcWa0",
        "colab_type": "code",
        "outputId": "fb396259-57ba-47f2-8e42-a0dc66a715e6",
        "colab": {
          "base_uri": "https://localhost:8080/",
          "height": 199
        }
      },
      "source": [
        "crossed_feature = feature_column.crossed_column([marks_buckets, grade], hash_bucket_size=10)\n",
        "demo(feature_column.indicator_column(crossed_feature))"
      ],
      "execution_count": 0,
      "outputs": [
        {
          "output_type": "stream",
          "text": [
            "[[0. 0. 0. 0. 0. 0. 0. 0. 1. 0.]\n",
            " [0. 0. 0. 0. 1. 0. 0. 0. 0. 0.]\n",
            " [0. 0. 0. 0. 1. 0. 0. 0. 0. 0.]\n",
            " [0. 0. 0. 0. 1. 0. 0. 0. 0. 0.]\n",
            " [1. 0. 0. 0. 0. 0. 0. 0. 0. 0.]\n",
            " [0. 0. 0. 0. 0. 0. 0. 0. 1. 0.]\n",
            " [0. 0. 0. 0. 0. 1. 0. 0. 0. 0.]\n",
            " [0. 0. 0. 0. 0. 0. 1. 0. 0. 0.]\n",
            " [0. 0. 0. 0. 1. 0. 0. 0. 0. 0.]\n",
            " [0. 0. 0. 0. 0. 0. 0. 0. 1. 0.]]\n"
          ],
          "name": "stdout"
        }
      ]
    },
    {
      "cell_type": "markdown",
      "metadata": {
        "id": "3963qm9l2iXb",
        "colab_type": "text"
      },
      "source": [
        "You may create a feature cross from either of the following:\n",
        "\n",
        "  * Feature names; that is, names from the dict returned from input_fn.\n",
        "  * Any categorical column, except categorical_column_with_hash_bucket (since crossed_column hashes the input).\n",
        "\n",
        "Except that a full grid would only be tractable for inputs with limited vocabularies. Instead of building this, potentially huge, table of inputs, the crossed_column only builds the number requested by the hash_bucket_size argument. The feature column assigns an example to a index by running a hash function on the tuple of inputs, followed by a modulo operation with hash_bucket_size.\n",
        "\n",
        "As discussed earlier, performing the hash and modulo function limits the number of categories, but can cause category collisions; that is, multiple (latitude, longitude) feature crosses will end up in the same hash bucket. In practice though, performing feature crosses still adds significant value to the learning capability of your models.\n",
        "\n",
        "Somewhat counterintuitively, when creating feature crosses, you typically still should include the original (uncrossed) features in your model (as in the preceding code snippet). The independent latitude and longitude features help the model distinguish between examples where a hash collision has occurred in the crossed feature."
      ]
    }
  ]
}